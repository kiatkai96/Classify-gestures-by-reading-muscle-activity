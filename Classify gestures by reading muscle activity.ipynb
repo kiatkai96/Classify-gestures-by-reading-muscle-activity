{
 "cells": [
  {
   "cell_type": "code",
   "execution_count": 11,
   "metadata": {},
   "outputs": [],
   "source": [
    "import pandas as pd\n",
    "import matplotlib.pyplot as plt\n",
    "import numpy as np\n",
    "import os\n",
    "\n",
    "from sklearn.model_selection import train_test_split\n",
    "from sklearn.naive_bayes import GaussianNB\n",
    "from sklearn.ensemble import RandomForestClassifier\n",
    "from sklearn.discriminant_analysis import LinearDiscriminantAnalysis\n",
    "from sklearn.discriminant_analysis import QuadraticDiscriminantAnalysis\n",
    "from sklearn.svm import SVC\n",
    "\n",
    "from sklearn.preprocessing import StandardScaler\n",
    "from sklearn.metrics import f1_score\n",
    "from sklearn.model_selection import GridSearchCV\n",
    "from sklearn.metrics import classification_report"
   ]
  },
  {
   "cell_type": "code",
   "execution_count": 12,
   "metadata": {},
   "outputs": [
    {
     "data": {
      "text/plain": [
       "(11678, 65)"
      ]
     },
     "execution_count": 12,
     "metadata": {},
     "output_type": "execute_result"
    }
   ],
   "source": [
    "os.chdir(\"C:/Users/Kiat Kai/Desktop/NOTES/Self Projects/data/classify hand gestures/\")\n",
    "data0 = pd.read_csv(\"0.csv\", header=None) # For class 0: rock\n",
    "data1 = pd.read_csv(\"1.csv\", header=None) # For class 1: scissors\n",
    "data2 = pd.read_csv(\"2.csv\", header=None) # For class 2: paper\n",
    "data3 = pd.read_csv(\"3.csv\", header=None) # For class 3: ok\n",
    "\n",
    "# 8 consecutive readings of all 8 sensors which is why 64 columns plus last column is the class = 65 columns\n",
    "\n",
    "# Now, we will combine all the dataset into 1 big dataset\n",
    "data = pd.concat([data0,data1,data2,data3], axis=0)\n",
    "data.shape"
   ]
  },
  {
   "cell_type": "code",
   "execution_count": 13,
   "metadata": {},
   "outputs": [],
   "source": [
    "# Split into X and Y\n",
    "Y = data.iloc[:,-1]\n",
    "X = data.drop(data.columns[-1], axis=1)\n",
    "\n",
    "# Now, train test split\n",
    "X_train, Xtest, Y_train, Ytest = train_test_split(X, Y, train_size=0.8, random_state=10)"
   ]
  },
  {
   "cell_type": "markdown",
   "metadata": {},
   "source": [
    "# Using different models for classification"
   ]
  },
  {
   "cell_type": "markdown",
   "metadata": {},
   "source": [
    "## 1) LDA"
   ]
  },
  {
   "cell_type": "code",
   "execution_count": 14,
   "metadata": {},
   "outputs": [
    {
     "name": "stdout",
     "output_type": "stream",
     "text": [
      "F1 Score for Linear Discriminant Analysis Classifier is 0.3326198630136986\n"
     ]
    }
   ],
   "source": [
    "lda = LinearDiscriminantAnalysis()\n",
    "y_pred = lda.fit(X_train, Y_train).predict(Xtest)\n",
    "f1_lda = f1_score(Ytest, y_pred, average='micro')\n",
    "print(\"F1 Score for Linear Discriminant Analysis Classifier is\", f1_lda)"
   ]
  },
  {
   "cell_type": "markdown",
   "metadata": {},
   "source": [
    "## 2) QDA"
   ]
  },
  {
   "cell_type": "code",
   "execution_count": 15,
   "metadata": {},
   "outputs": [
    {
     "name": "stdout",
     "output_type": "stream",
     "text": [
      "F1 Score for Quadratic Discriminant Analysis Classifier is 0.9353595890410958\n"
     ]
    }
   ],
   "source": [
    "qda = QuadraticDiscriminantAnalysis()\n",
    "y_pred = qda.fit(X_train, Y_train).predict(Xtest)\n",
    "f1_qda = f1_score(Ytest, y_pred, average='micro')\n",
    "print(\"F1 Score for Quadratic Discriminant Analysis Classifier is\", f1_qda)"
   ]
  },
  {
   "cell_type": "markdown",
   "metadata": {},
   "source": [
    "## 3) Naive Bayes"
   ]
  },
  {
   "cell_type": "code",
   "execution_count": 16,
   "metadata": {},
   "outputs": [
    {
     "name": "stdout",
     "output_type": "stream",
     "text": [
      "F1 Score for Naive Bayes Classifier is 0.8874143835616438\n"
     ]
    }
   ],
   "source": [
    "gnb = GaussianNB()\n",
    "y_pred = gnb.fit(X_train, Y_train).predict(Xtest)\n",
    "f1_nb = f1_score(Ytest, y_pred, average='micro')\n",
    "print(\"F1 Score for Naive Bayes Classifier is\", f1_nb)"
   ]
  },
  {
   "cell_type": "markdown",
   "metadata": {},
   "source": [
    "## 4) Random Forest"
   ]
  },
  {
   "cell_type": "code",
   "execution_count": 59,
   "metadata": {},
   "outputs": [
    {
     "data": {
      "text/plain": [
       "GridSearchCV(cv=5, estimator=RandomForestClassifier(random_state=100),\n",
       "             param_grid={'criterion': ['gini', 'entropy'],\n",
       "                         'max_depth': [4, 5, 6, 7, 8, 9, 10],\n",
       "                         'max_features': ['auto', 'sqrt', 'log2'],\n",
       "                         'n_estimators': [200, 500]})"
      ]
     },
     "execution_count": 59,
     "metadata": {},
     "output_type": "execute_result"
    }
   ],
   "source": [
    "rfc=RandomForestClassifier(random_state=100)\n",
    "\n",
    "param_grid = { \n",
    "    'n_estimators': [200, 500],\n",
    "    'max_features': ['auto', 'sqrt', 'log2'],\n",
    "    'max_depth' : [4,5,6,7,8,9,10],\n",
    "    'criterion' :['gini', 'entropy']\n",
    "}\n",
    "\n",
    "CV_rfc = GridSearchCV(estimator=rfc, param_grid=param_grid, cv= 5)\n",
    "CV_rfc.fit(X_train, Y_train)"
   ]
  },
  {
   "cell_type": "code",
   "execution_count": 60,
   "metadata": {},
   "outputs": [
    {
     "data": {
      "text/plain": [
       "{'criterion': 'gini',\n",
       " 'max_depth': 10,\n",
       " 'max_features': 'log2',\n",
       " 'n_estimators': 500}"
      ]
     },
     "execution_count": 60,
     "metadata": {},
     "output_type": "execute_result"
    }
   ],
   "source": [
    "CV_rfc.best_params_"
   ]
  },
  {
   "cell_type": "code",
   "execution_count": 17,
   "metadata": {},
   "outputs": [
    {
     "name": "stdout",
     "output_type": "stream",
     "text": [
      "F1 Score for Random Forest Classifier is 0.9075342465753424\n"
     ]
    }
   ],
   "source": [
    "# Best parameters after tuning:\n",
    "rf = RandomForestClassifier(random_state=100, n_estimators=500, criterion='gini', max_depth=10, max_features='log2')\n",
    "y_pred = rf.fit(X_train, Y_train).predict(Xtest)\n",
    "f1_rf = f1_score(Ytest, y_pred, average='micro')\n",
    "print(\"F1 Score for Random Forest Classifier is\", f1_rf)"
   ]
  },
  {
   "cell_type": "markdown",
   "metadata": {},
   "source": [
    "## 5) Support Vector Classifier"
   ]
  },
  {
   "cell_type": "code",
   "execution_count": 4,
   "metadata": {},
   "outputs": [
    {
     "data": {
      "text/plain": [
       "GridSearchCV(cv=5, estimator=SVC(random_state=100),\n",
       "             param_grid={'C': [0.01, 0.1, 1], 'kernel': ['linear', 'rbf']})"
      ]
     },
     "execution_count": 4,
     "metadata": {},
     "output_type": "execute_result"
    }
   ],
   "source": [
    "svc=SVC(random_state=100)\n",
    "\n",
    "param_grid = { \n",
    "    'C': [0.01, 0.1, 1],\n",
    "    'kernel': ['linear','rbf'],\n",
    "}\n",
    "\n",
    "CV_svc = GridSearchCV(estimator=svc, param_grid=param_grid, cv= 5)\n",
    "CV_svc.fit(X_train, Y_train)"
   ]
  },
  {
   "cell_type": "code",
   "execution_count": 7,
   "metadata": {},
   "outputs": [
    {
     "data": {
      "text/plain": [
       "{'C': 1, 'kernel': 'rbf'}"
      ]
     },
     "execution_count": 7,
     "metadata": {},
     "output_type": "execute_result"
    }
   ],
   "source": [
    "CV_svc.best_params_"
   ]
  },
  {
   "cell_type": "code",
   "execution_count": 9,
   "metadata": {},
   "outputs": [
    {
     "name": "stdout",
     "output_type": "stream",
     "text": [
      "F1 Score for Support Vector Classifier is 0.879708904109589\n"
     ]
    }
   ],
   "source": [
    "# Best parameters after tuning:\n",
    "rf = SVC(random_state=100, C=1, kernel=\"rbf\")\n",
    "y_pred = rf.fit(X_train, Y_train).predict(Xtest)\n",
    "f1_svc = f1_score(Ytest, y_pred, average='micro')\n",
    "print(\"F1 Score for Support Vector Classifier is\", f1_svc)"
   ]
  },
  {
   "cell_type": "markdown",
   "metadata": {},
   "source": [
    "## Evaluating all models"
   ]
  },
  {
   "cell_type": "code",
   "execution_count": 23,
   "metadata": {},
   "outputs": [
    {
     "data": {
      "text/html": [
       "<div>\n",
       "<style scoped>\n",
       "    .dataframe tbody tr th:only-of-type {\n",
       "        vertical-align: middle;\n",
       "    }\n",
       "\n",
       "    .dataframe tbody tr th {\n",
       "        vertical-align: top;\n",
       "    }\n",
       "\n",
       "    .dataframe thead th {\n",
       "        text-align: right;\n",
       "    }\n",
       "</style>\n",
       "<table border=\"1\" class=\"dataframe\">\n",
       "  <thead>\n",
       "    <tr style=\"text-align: right;\">\n",
       "      <th></th>\n",
       "      <th>Models</th>\n",
       "      <th>F1 Score</th>\n",
       "    </tr>\n",
       "  </thead>\n",
       "  <tbody>\n",
       "    <tr>\n",
       "      <th>1</th>\n",
       "      <td>Quadratic Discriminant Analysis</td>\n",
       "      <td>0.935360</td>\n",
       "    </tr>\n",
       "    <tr>\n",
       "      <th>3</th>\n",
       "      <td>Random Forest</td>\n",
       "      <td>0.907534</td>\n",
       "    </tr>\n",
       "    <tr>\n",
       "      <th>2</th>\n",
       "      <td>Naive Bayes</td>\n",
       "      <td>0.887414</td>\n",
       "    </tr>\n",
       "    <tr>\n",
       "      <th>4</th>\n",
       "      <td>Support Vector Classifier</td>\n",
       "      <td>0.879709</td>\n",
       "    </tr>\n",
       "    <tr>\n",
       "      <th>0</th>\n",
       "      <td>Linear Discriminant Analysis</td>\n",
       "      <td>0.332620</td>\n",
       "    </tr>\n",
       "  </tbody>\n",
       "</table>\n",
       "</div>"
      ],
      "text/plain": [
       "                            Models  F1 Score\n",
       "1  Quadratic Discriminant Analysis  0.935360\n",
       "3                    Random Forest  0.907534\n",
       "2                      Naive Bayes  0.887414\n",
       "4        Support Vector Classifier  0.879709\n",
       "0     Linear Discriminant Analysis  0.332620"
      ]
     },
     "execution_count": 23,
     "metadata": {},
     "output_type": "execute_result"
    }
   ],
   "source": [
    "# Dataframe to contain model results\n",
    "model_results = pd.DataFrame(columns=[\"Models\",\"F1 Score\"])\n",
    "\n",
    "# LDA\n",
    "model_results = model_results.append(pd.DataFrame({\"Models\":\"Linear Discriminant Analysis\", \n",
    "                                  \"F1 Score\":f1_lda}, index = [0]), ignore_index = False)\n",
    "# QDA\n",
    "model_results = model_results.append(pd.DataFrame({\"Models\":\"Quadratic Discriminant Analysis\", \n",
    "                                  \"F1 Score\":f1_qda}, index = [1]), ignore_index = False)\n",
    "# Naive Bayes\n",
    "model_results = model_results.append(pd.DataFrame({\"Models\":\"Naive Bayes\", \n",
    "                                  \"F1 Score\":f1_nb}, index = [2]), ignore_index = False)\n",
    "# Random Forest\n",
    "model_results = model_results.append(pd.DataFrame({\"Models\":\"Random Forest\", \n",
    "                                  \"F1 Score\":f1_rf}, index = [3]), ignore_index = False)\n",
    "# Support Vector Classifier\n",
    "model_results = model_results.append(pd.DataFrame({\"Models\":\"Support Vector Classifier\", \n",
    "                                  \"F1 Score\":f1_svc}, index = [4]), ignore_index = False)\n",
    "\n",
    "model_results.sort_values(by=\"F1 Score\", ascending = False)"
   ]
  }
 ],
 "metadata": {
  "kernelspec": {
   "display_name": "Python 3",
   "language": "python",
   "name": "python3"
  }
 },
 "nbformat": 4,
 "nbformat_minor": 2
}
